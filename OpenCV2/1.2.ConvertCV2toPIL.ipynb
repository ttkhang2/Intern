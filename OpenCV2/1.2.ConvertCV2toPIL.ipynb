{
 "cells": [
  {
   "cell_type": "markdown",
   "metadata": {},
   "source": []
  },
  {
   "cell_type": "code",
   "execution_count": 1,
   "metadata": {},
   "outputs": [],
   "source": [
    "import numpy as np\n",
    "import cv2\n",
    "from PIL import Image\n"
   ]
  },
  {
   "cell_type": "code",
   "execution_count": 2,
   "metadata": {},
   "outputs": [],
   "source": [
    "IMAGE_OPENCV_PATH = \"Image/dog.jpg\"\n",
    "IMAGE_PIL_PATH = \"Image/pil.png\"\n"
   ]
  },
  {
   "cell_type": "code",
   "execution_count": 3,
   "metadata": {},
   "outputs": [],
   "source": [
    "def npf32u8(np_arr):\n",
    "    if str(np_arr.dtype) != 'uint8':\n",
    "        np_arr = np_arr.astype(np.float32)\n",
    "        np_arr -= np.min(np_arr)\n",
    "        np_arr /= np.max(np_arr)\n",
    "        np_arr = 255* np_arr\n",
    "        np_arr = np_arr.astype(np.uint8)\n",
    "    return np_arr\n"
   ]
  },
  {
   "cell_type": "code",
   "execution_count": null,
   "metadata": {},
   "outputs": [],
   "source": [
    "def opencv2pil(opencv_image):\n",
    "    opencv_image_rgb = cv2.cvtColor(opencv_image, cv2.COLOR_BGR2RGB)\n",
    "    opencv_image_rgb = npf32u8(opencv_image_rgb)\n",
    "    pil_image = Image.fromarray(opencv_image_rgb)\n",
    "    return pil_image"
   ]
  },
  {
   "cell_type": "code",
   "execution_count": null,
   "metadata": {},
   "outputs": [],
   "source": [
    "def main():\n",
    "    opencv_image =cv2.imread(IMAGE_OPENCV_PATH)\n",
    "    pil_image = opencv2pil(opencv_image)\n",
    "    pil_image.save(IMAGE_PIL_PATH)"
   ]
  },
  {
   "cell_type": "code",
   "execution_count": null,
   "metadata": {},
   "outputs": [],
   "source": [
    "if __name__ == \"__main__\":\n",
    "    main()"
   ]
  }
 ],
 "metadata": {
  "kernelspec": {
   "display_name": "Python 3",
   "language": "python",
   "name": "python3"
  },
  "language_info": {
   "codemirror_mode": {
    "name": "ipython",
    "version": 3
   },
   "file_extension": ".py",
   "mimetype": "text/x-python",
   "name": "python",
   "nbconvert_exporter": "python",
   "pygments_lexer": "ipython3",
   "version": "3.11.2"
  },
  "orig_nbformat": 4
 },
 "nbformat": 4,
 "nbformat_minor": 2
}
