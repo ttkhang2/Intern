{
 "cells": [
  {
   "cell_type": "code",
   "execution_count": 13,
   "metadata": {},
   "outputs": [],
   "source": [
    "# dst = src1*alpha + src2*beta \n",
    "import cv2"
   ]
  },
  {
   "cell_type": "code",
   "execution_count": 14,
   "metadata": {},
   "outputs": [],
   "source": [
    "IMAGE_BG = \"Image/dog.jpg\"\n",
    "IMAGE_FG = \"Image/Foreground.jpg\"\n",
    "OUT_NAME = \"Image/ImageAfterBlend.jpg\"\n",
    "\n",
    "BLEND_X = 0.1\n",
    "BLEND_Y = 0.05\n",
    "BLEN_OPAQUE = 0.5"
   ]
  },
  {
   "cell_type": "code",
   "execution_count": 15,
   "metadata": {},
   "outputs": [],
   "source": [
    "def blend(bg,fg,x,y,opaque = 1.0, gamma =0):\n",
    "    h,w = bg.shape[:2]\n",
    "    x_abs, y_abs = int(x*w), int (y*h)\n",
    "\n",
    "    fg_h, fg_w = fg.shape[:2]\n",
    "    patch = bg[y_abs:y_abs+fg_h,x_abs:x_abs+fg_w,:]\n",
    "    blend = cv2.addWeighted(src1=patch,alpha= 1-opaque, src2= fg, beta = opaque, gamma=gamma)\n",
    "    result = bg.copy()\n",
    "    result[y_abs:y_abs+fg_h,x_abs:x_abs+fg_w,:] = blend\n",
    "    return result\n"
   ]
  },
  {
   "cell_type": "code",
   "execution_count": 16,
   "metadata": {},
   "outputs": [],
   "source": [
    "def main(bg_path, fg_path):\n",
    "    img_bg = cv2.imread(bg_path)\n",
    "    img_fg = cv2.imread(fg_path)\n",
    "    result = blend(bg= img_bg, fg= img_fg, x = BLEND_X, y= BLEND_Y, opaque= BLEN_OPAQUE)\n",
    "    cv2.imwrite(OUT_NAME,result)"
   ]
  },
  {
   "cell_type": "code",
   "execution_count": 17,
   "metadata": {},
   "outputs": [],
   "source": [
    "if __name__ == \"__main__\":\n",
    "    main(bg_path=IMAGE_BG, fg_path=IMAGE_FG)"
   ]
  }
 ],
 "metadata": {
  "kernelspec": {
   "display_name": "Python 3",
   "language": "python",
   "name": "python3"
  },
  "language_info": {
   "codemirror_mode": {
    "name": "ipython",
    "version": 3
   },
   "file_extension": ".py",
   "mimetype": "text/x-python",
   "name": "python",
   "nbconvert_exporter": "python",
   "pygments_lexer": "ipython3",
   "version": "3.11.2"
  },
  "orig_nbformat": 4
 },
 "nbformat": 4,
 "nbformat_minor": 2
}
