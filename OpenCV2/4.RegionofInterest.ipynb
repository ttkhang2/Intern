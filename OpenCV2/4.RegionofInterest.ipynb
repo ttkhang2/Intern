{
 "cells": [
  {
   "cell_type": "code",
   "execution_count": 5,
   "metadata": {},
   "outputs": [],
   "source": [
    "import os, sys\n",
    "import cv2\n"
   ]
  },
  {
   "cell_type": "code",
   "execution_count": 6,
   "metadata": {},
   "outputs": [],
   "source": [
    "def apply_roi(img, roi):\n",
    "    roi = cv2.resize(src= roi, dsize=(img.shape[1], img.shape[0]))\n",
    "    \n",
    "    assert img.shape[:2] == roi.shape[:2]\n",
    "\n",
    "    # scale ROI to binary mask\n",
    "    thresh, roi =cv2.threshold(roi, thresh=128, maxval=1,type=cv2.THRESH_BINARY)\n",
    "\n",
    "    new_img = img*roi\n",
    "    return new_img"
   ]
  },
  {
   "cell_type": "code",
   "execution_count": 8,
   "metadata": {},
   "outputs": [
    {
     "ename": "error",
     "evalue": "OpenCV(4.7.0) D:\\a\\opencv-python\\opencv-python\\opencv\\modules\\imgcodecs\\src\\loadsave.cpp:692: error: (-2:Unspecified error) could not find a writer for the specified extension in function 'cv::imwrite_'\n",
     "output_type": "error",
     "traceback": [
      "\u001b[1;31m---------------------------------------------------------------------------\u001b[0m",
      "\u001b[1;31merror\u001b[0m                                     Traceback (most recent call last)",
      "Cell \u001b[1;32mIn[8], line 9\u001b[0m\n\u001b[0;32m      6\u001b[0m roi \u001b[39m=\u001b[39m cv2\u001b[39m.\u001b[39mimread(ROI_PATH)\n\u001b[0;32m      7\u001b[0m new_image \u001b[39m=\u001b[39m apply_roi(img, roi)\n\u001b[1;32m----> 9\u001b[0m cv2\u001b[39m.\u001b[39;49mimwrite(\u001b[39m\"\u001b[39;49m\u001b[39mImage/ImageAfterROI\u001b[39;49m\u001b[39m\"\u001b[39;49m,new_image)\n",
      "\u001b[1;31merror\u001b[0m: OpenCV(4.7.0) D:\\a\\opencv-python\\opencv-python\\opencv\\modules\\imgcodecs\\src\\loadsave.cpp:692: error: (-2:Unspecified error) could not find a writer for the specified extension in function 'cv::imwrite_'\n"
     ]
    }
   ],
   "source": [
    "if __name__ == \"__main__\":\n",
    "    IMAGE_PATH = \"Image/dog.jpg\"\n",
    "    ROI_PATH = \"Image/roi.png\"\n",
    "\n",
    "    img = cv2.imread(IMAGE_PATH)\n",
    "    roi = cv2.imread(ROI_PATH)\n",
    "    new_image = apply_roi(img, roi)\n",
    "\n",
    "    cv2.imwrite(\"Image/ImageAfterROI\",new_image)"
   ]
  },
  {
   "cell_type": "code",
   "execution_count": null,
   "metadata": {},
   "outputs": [],
   "source": [
    "import cv2\n",
    "def apply_roi(img, roi):\n",
    "    roi = cv2.resize(src= roi, dsize=(img.shape[1], img.shape[0]))\n",
    "    \n",
    "    assert img.shape[:2] == roi.shape[:2]\n",
    "\n",
    "    # scale ROI to binary mask\n",
    "    thresh, roi =cv2.threshold(roi, thresh=128, maxval=1,type=cv2.THRESH_BINARY)\n",
    "\n",
    "    new_img = img*roi\n",
    "    return new_img\n",
    "\n",
    "if __name__ == \"__main__\":\n",
    "    IMAGE_PATH = \"Image/dog.jpg\"\n",
    "    ROI_PATH = \"Image/roi.png\"\n",
    "\n",
    "    img = cv2.imread(IMAGE_PATH)\n",
    "    roi = cv2.imread(ROI_PATH)\n",
    "    new_image = apply_roi(img, roi)\n",
    "\n",
    "    cv2.imwrite(\"Image/ImageAfterROI.png\",new_image)"
   ]
  }
 ],
 "metadata": {
  "kernelspec": {
   "display_name": "Python 3",
   "language": "python",
   "name": "python3"
  },
  "language_info": {
   "codemirror_mode": {
    "name": "ipython",
    "version": 3
   },
   "file_extension": ".py",
   "mimetype": "text/x-python",
   "name": "python",
   "nbconvert_exporter": "python",
   "pygments_lexer": "ipython3",
   "version": "3.11.2"
  },
  "orig_nbformat": 4
 },
 "nbformat": 4,
 "nbformat_minor": 2
}
