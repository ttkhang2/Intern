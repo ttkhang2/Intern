{
 "cells": [
  {
   "cell_type": "code",
   "execution_count": 1,
   "metadata": {},
   "outputs": [],
   "source": [
    "import os,sys\n",
    "import cv2\n",
    "import numpy as np\n",
    "import seaborn as sns\n",
    "import pandas as pd"
   ]
  },
  {
   "cell_type": "code",
   "execution_count": 2,
   "metadata": {},
   "outputs": [],
   "source": [
    "def create_histogram(img):\n",
    "    histogram = [0]*256\n",
    "    for row in range(img.shape[0]):\n",
    "        for col in range(img.shape[1]):\n",
    "            histogram[img[row,col]]+=1\n",
    "    return histogram"
   ]
  },
  {
   "cell_type": "code",
   "execution_count": 3,
   "metadata": {},
   "outputs": [],
   "source": [
    "def visualize_histogram(histogram, output = 'Image/histogram.png'):\n",
    "    hist_data = pd.DataFrame({'intensity':list(range(256)),'frequency':histogram})\n",
    "    sns_hist = sns.barplot(x='intensity', y= 'frequency', data = hist_data, color='blue')\n",
    "    sns_hist.set(xticks=[])\n",
    "\n",
    "    fig = sns_hist.get_figures()\n",
    "    fig.savefig(output)\n",
    "    return output"
   ]
  },
  {
   "cell_type": "code",
   "execution_count": 5,
   "metadata": {},
   "outputs": [
    {
     "ename": "AttributeError",
     "evalue": "'NoneType' object has no attribute 'shape'",
     "output_type": "error",
     "traceback": [
      "\u001b[1;31m---------------------------------------------------------------------------\u001b[0m",
      "\u001b[1;31mAttributeError\u001b[0m                            Traceback (most recent call last)",
      "Cell \u001b[1;32mIn[5], line 2\u001b[0m\n\u001b[0;32m      1\u001b[0m img \u001b[39m=\u001b[39m cv2\u001b[39m.\u001b[39mimread(\u001b[39m\"\u001b[39m\u001b[39mFile/dog.jpg\u001b[39m\u001b[39m\"\u001b[39m,cv2\u001b[39m.\u001b[39mIMREAD_GRAYSCALE)\n\u001b[1;32m----> 2\u001b[0m hist_img_path\u001b[39m=\u001b[39mvisualize_histogram(create_histogram(img))\n",
      "Cell \u001b[1;32mIn[2], line 3\u001b[0m, in \u001b[0;36mcreate_histogram\u001b[1;34m(img)\u001b[0m\n\u001b[0;32m      1\u001b[0m \u001b[39mdef\u001b[39;00m \u001b[39mcreate_histogram\u001b[39m(img):\n\u001b[0;32m      2\u001b[0m     histogram \u001b[39m=\u001b[39m [\u001b[39m0\u001b[39m]\u001b[39m*\u001b[39m\u001b[39m256\u001b[39m\n\u001b[1;32m----> 3\u001b[0m     \u001b[39mfor\u001b[39;00m row \u001b[39min\u001b[39;00m \u001b[39mrange\u001b[39m(img\u001b[39m.\u001b[39;49mshape[\u001b[39m0\u001b[39m]):\n\u001b[0;32m      4\u001b[0m         \u001b[39mfor\u001b[39;00m col \u001b[39min\u001b[39;00m \u001b[39mrange\u001b[39m(img\u001b[39m.\u001b[39mshape[\u001b[39m1\u001b[39m]):\n\u001b[0;32m      5\u001b[0m             histogram[img[row,col]]\u001b[39m+\u001b[39m\u001b[39m=\u001b[39m\u001b[39m1\u001b[39m\n",
      "\u001b[1;31mAttributeError\u001b[0m: 'NoneType' object has no attribute 'shape'"
     ]
    }
   ],
   "source": [
    "img = cv2.imread(\"File/dog.jpg\",cv2.IMREAD_GRAYSCALE)\n",
    "hist_img_path=visualize_histogram(create_histogram(img))"
   ]
  }
 ],
 "metadata": {
  "kernelspec": {
   "display_name": "Python 3",
   "language": "python",
   "name": "python3"
  },
  "language_info": {
   "codemirror_mode": {
    "name": "ipython",
    "version": 3
   },
   "file_extension": ".py",
   "mimetype": "text/x-python",
   "name": "python",
   "nbconvert_exporter": "python",
   "pygments_lexer": "ipython3",
   "version": "3.11.2"
  },
  "orig_nbformat": 4
 },
 "nbformat": 4,
 "nbformat_minor": 2
}
