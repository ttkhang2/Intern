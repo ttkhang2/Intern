{
 "cells": [
  {
   "cell_type": "markdown",
   "metadata": {},
   "source": []
  },
  {
   "cell_type": "code",
   "execution_count": 3,
   "metadata": {},
   "outputs": [],
   "source": [
    "import cv2\n",
    "import numpy as np\n",
    "import seaborn as sns\n",
    "import pandas as pd"
   ]
  },
  {
   "cell_type": "code",
   "execution_count": 4,
   "metadata": {},
   "outputs": [],
   "source": [
    "def create_histogram(img):\n",
    "    histogram = [0]*256\n",
    "    for row in range(img.shape[0]):\n",
    "        for col in range (img.shape[1]):\n",
    "            histogram[img[row,col]] +=1\n",
    "    return histogram"
   ]
  },
  {
   "cell_type": "code",
   "execution_count": 5,
   "metadata": {},
   "outputs": [],
   "source": [
    "def visualize_histogram(histogram, output = 'Image/histogram.png'):\n",
    "    hist_data = pd.DataFrame({'intensity':list(range(256)), 'frequency':histogram})\n",
    "    sns_hist = sns.barplot(x='intensity', y= 'frequency', data = hist_data, color = 'blue')\n",
    "    sns_hist.set(xticks = [])\n",
    "\n",
    "    fig = sns_hist.get_figure()\n",
    "    fig.savefig(output)\n",
    "    return output"
   ]
  },
  {
   "cell_type": "code",
   "execution_count": 6,
   "metadata": {},
   "outputs": [],
   "source": [
    "def equalize_histogram (img, histogram):\n",
    "    new_H = [0]*257\n",
    "    for i in range(0, len(new_H)):\n",
    "        new_H[i] = sum(histogram[:i])\n",
    "    new_H = new_H[1:]\n",
    "\n",
    "    #scale to [0,255]\n",
    "    max_value = max (new_H)\n",
    "    min_value = min(new_H)\n",
    "    new_H = [int(((f-min_value)/(max_value-min_value))*255) for f in new_H]\n",
    "\n",
    "    print(new_H)\n",
    "\n",
    "    for row in range(img.shape[0]):\n",
    "        for col in range(img.shape[1]):\n",
    "            img[row,col] = new_H[img[row,col]]\n",
    "    \n",
    "    return img"
   ]
  },
  {
   "cell_type": "code",
   "execution_count": 7,
   "metadata": {},
   "outputs": [
    {
     "name": "stdout",
     "output_type": "stream",
     "text": [
      "[0, 0, 0, 0, 0, 0, 0, 0, 0, 0, 0, 0, 0, 0, 0, 0, 0, 0, 0, 0, 0, 0, 0, 0, 0, 0, 0, 0, 0, 0, 0, 0, 0, 0, 1, 1, 2, 2, 2, 3, 3, 3, 3, 4, 4, 4, 4, 5, 5, 5, 6, 6, 6, 6, 7, 7, 7, 7, 8, 8, 8, 8, 9, 9, 9, 10, 10, 10, 10, 11, 11, 11, 12, 12, 12, 13, 13, 13, 13, 14, 14, 14, 14, 15, 15, 15, 15, 16, 16, 16, 16, 16, 17, 17, 17, 17, 18, 18, 18, 18, 18, 19, 19, 19, 19, 20, 20, 20, 20, 20, 21, 21, 21, 21, 21, 22, 22, 22, 22, 23, 23, 23, 23, 24, 24, 24, 24, 25, 25, 25, 25, 26, 26, 26, 26, 27, 27, 27, 28, 28, 28, 28, 29, 29, 29, 30, 30, 30, 30, 31, 31, 31, 32, 32, 32, 33, 33, 33, 34, 34, 34, 35, 35, 35, 36, 36, 36, 37, 37, 37, 38, 38, 38, 39, 39, 40, 40, 41, 41, 42, 43, 44, 45, 46, 48, 49, 51, 53, 55, 57, 59, 61, 63, 65, 67, 70, 74, 78, 83, 89, 95, 102, 108, 114, 119, 124, 127, 131, 134, 137, 139, 142, 145, 149, 152, 155, 159, 162, 166, 170, 174, 178, 183, 188, 192, 196, 201, 205, 209, 213, 217, 221, 224, 227, 230, 233, 236, 238, 240, 242, 244, 246, 247, 248, 250, 251, 251, 252, 252, 253, 253, 254, 254, 254, 254, 255]\n"
     ]
    },
    {
     "data": {
      "text/plain": [
       "True"
      ]
     },
     "execution_count": 7,
     "metadata": {},
     "output_type": "execute_result"
    },
    {
     "data": {
      "image/png": "[encoded data removed]",
      "text/plain": [
       "<Figure size 640x480 with 1 Axes>"
      ]
     },
     "metadata": {},
     "output_type": "display_data"
    }
   ],
   "source": [
    "img = cv2.imread('Image/dog.jpg', cv2.IMREAD_GRAYSCALE)\n",
    "\n",
    "histogram = create_histogram(img)\n",
    "\n",
    "hist_image_path = visualize_histogram(histogram)\n",
    "\n",
    "equalize_img = equalize_histogram(img,histogram)\n",
    "cv2.imwrite('Image/equalize_img.jpg',equalize_img)"
   ]
  }
 ],
 "metadata": {
  "kernelspec": {
   "display_name": "Python 3",
   "language": "python",
   "name": "python3"
  },
  "language_info": {
   "codemirror_mode": {
    "name": "ipython",
    "version": 3
   },
   "file_extension": ".py",
   "mimetype": "text/x-python",
   "name": "python",
   "nbconvert_exporter": "python",
   "pygments_lexer": "ipython3",
   "version": "3.11.2"
  },
  "orig_nbformat": 4
 },
 "nbformat": 4,
 "nbformat_minor": 2
}
