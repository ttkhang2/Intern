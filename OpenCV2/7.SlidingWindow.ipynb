{
 "cells": [
  {
   "cell_type": "code",
   "execution_count": 94,
   "metadata": {},
   "outputs": [],
   "source": [
    "import cv2\n",
    "import numpy as np\n",
    "import matplotlib.pyplot as plt"
   ]
  },
  {
   "cell_type": "code",
   "execution_count": 95,
   "metadata": {},
   "outputs": [],
   "source": [
    "def apply_sliding_window(img, kernel, padding=0, stride =1):\n",
    "    h, w = img.shape[:2]\n",
    "\n",
    "    img_p = np.zeros([h+2*padding, w+2*padding])\n",
    "    img_p[padding:padding+h, padding:padding+w] = img\n",
    "\n",
    "    kernel = np.array(kernel)\n",
    "\n",
    "    k_size = kernel.shape[0]\n",
    "    k_half = int(k_size/2)\n",
    "\n",
    "    y_pos = [v for idx, v in enumerate(list(range(k_half,h-k_half))) if idx % stride ==0]\n",
    "    x_pos = [v for idx, v in enumerate(list(range(k_half,w-k_half))) if idx % stride ==0]\n",
    "\n",
    "    new_img = np.zeros([len(y_pos), (len(x_pos))])\n",
    "    for new_y, y in enumerate(y_pos):\n",
    "        for new_x, x in enumerate(x_pos):\n",
    "            if (k_half == 0):\n",
    "                pixel_val = img_p[y,x] * kernel\n",
    "            else:\n",
    "                pixel_val = np.sum(img_p[y-k_half:y-k_half+k_size,x-k_half:x-k_half+k_size])\n",
    "            new_img[new_y, new_x] = pixel_val\n",
    "    return new_img"
   ]
  },
  {
   "cell_type": "code",
   "execution_count": 96,
   "metadata": {},
   "outputs": [
    {
     "ename": "IndexError",
     "evalue": "too many indices for array: array is 2-dimensional, but 3 were indexed",
     "output_type": "error",
     "traceback": [
      "\u001b[0;31m---------------------------------------------------------------------------\u001b[0m",
      "\u001b[0;31mIndexError\u001b[0m                                Traceback (most recent call last)",
      "Cell \u001b[0;32mIn[96], line 3\u001b[0m\n\u001b[1;32m      1\u001b[0m img \u001b[39m=\u001b[39m cv2\u001b[39m.\u001b[39mimread(\u001b[39m'\u001b[39m\u001b[39mImage/dog.jpg\u001b[39m\u001b[39m'\u001b[39m)\n\u001b[0;32m----> 3\u001b[0m new_img \u001b[39m=\u001b[39m apply_sliding_window(img,kernel\u001b[39m=\u001b[39;49m[[\u001b[39m2\u001b[39;49m,\u001b[39m2\u001b[39;49m,\u001b[39m2\u001b[39;49m],[\u001b[39m2\u001b[39;49m,\u001b[39m2\u001b[39;49m,\u001b[39m2\u001b[39;49m],[\u001b[39m2\u001b[39;49m,\u001b[39m2\u001b[39;49m,\u001b[39m2\u001b[39;49m]],padding\u001b[39m=\u001b[39;49m\u001b[39m1\u001b[39;49m, stride\u001b[39m=\u001b[39;49m\u001b[39m1\u001b[39;49m)\n\u001b[1;32m      4\u001b[0m cv2\u001b[39m.\u001b[39mimwrite(\u001b[39m'\u001b[39m\u001b[39mImage/AfterSlidingImg.jpg\u001b[39m\u001b[39m'\u001b[39m,new_img)\n",
      "Cell \u001b[0;32mIn[95], line 5\u001b[0m, in \u001b[0;36mapply_sliding_window\u001b[0;34m(img, kernel, padding, stride)\u001b[0m\n\u001b[1;32m      2\u001b[0m h, w \u001b[39m=\u001b[39m img\u001b[39m.\u001b[39mshape[:\u001b[39m2\u001b[39m]\n\u001b[1;32m      4\u001b[0m img_p \u001b[39m=\u001b[39m np\u001b[39m.\u001b[39mzeros([h\u001b[39m+\u001b[39m\u001b[39m2\u001b[39m\u001b[39m*\u001b[39mpadding, w\u001b[39m+\u001b[39m\u001b[39m2\u001b[39m\u001b[39m*\u001b[39mpadding])\n\u001b[0;32m----> 5\u001b[0m img_p[padding:padding\u001b[39m+\u001b[39;49mh, padding:padding\u001b[39m+\u001b[39;49mw,\u001b[39m3\u001b[39;49m] \u001b[39m=\u001b[39m img\n\u001b[1;32m      7\u001b[0m kernel \u001b[39m=\u001b[39m np\u001b[39m.\u001b[39marray(kernel)\n\u001b[1;32m      9\u001b[0m k_size \u001b[39m=\u001b[39m kernel\u001b[39m.\u001b[39mshape[\u001b[39m0\u001b[39m]\n",
      "\u001b[0;31mIndexError\u001b[0m: too many indices for array: array is 2-dimensional, but 3 were indexed"
     ]
    }
   ],
   "source": [
    "img = cv2.imread('Image/dog.jpg')\n",
    "\n",
    "new_img = apply_sliding_window(img,kernel=[[2,2,2],[2,2,2],[2,2,2]],padding=1, stride=1)\n",
    "cv2.imwrite('Image/AfterSlidingImg.jpg',new_img)"
   ]
  }
 ],
 "metadata": {
  "kernelspec": {
   "display_name": "Python 3",
   "language": "python",
   "name": "python3"
  },
  "language_info": {
   "codemirror_mode": {
    "name": "ipython",
    "version": 3
   },
   "file_extension": ".py",
   "mimetype": "text/x-python",
   "name": "python",
   "nbconvert_exporter": "python",
   "pygments_lexer": "ipython3",
   "version": "3.11.2"
  },
  "orig_nbformat": 4
 },
 "nbformat": 4,
 "nbformat_minor": 2
}
